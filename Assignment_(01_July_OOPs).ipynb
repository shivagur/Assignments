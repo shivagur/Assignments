{
 "cells": [
  {
   "cell_type": "markdown",
   "id": "cdc1453c",
   "metadata": {},
   "source": [
    "1. What is the primary goal of Object-Oriented Programming (OOP)?\n",
    "\n",
    "Answer:-\n",
    "\n",
    "\n",
    "The primary goal of Object-Oriented Programming (OOP) is to make software development more organized and. \n",
    "\n",
    "Here are some simplified objectives of OOP:\n",
    "\n",
    "➡️Modularity: OOP encourages breaking down a complex system into smaller, self-contained modules called objects. \n",
    "              Each object has its own set of properties (attributes) and behaviors (methods), making it easier to understand and work with.\n",
    "\n",
    "➡️Reusability: OOP promotes code reusability, allowing developers to create objects that can be used in different parts of a program or in multiple programs. \n",
    "\n",
    "\n",
    "➡️Encapsulation: OOP encapsulates data and methods within an object, hiding the internal details and providing a clear interface for interacting with the object. This improves code organization, enhances security, and prevents unintended modifications.\n",
    "\n",
    "➡️Inheritance: OOP facilitates inheritance, where objects can inherit properties and behaviors from other objects. This enables the creation of hierarchical relationships and promotes code reuse, as common functionalities can be defined in a base (parent) object and inherited by derived (child) objects.\n",
    "\n",
    "➡️Maintainability: OOP aims to make software maintenance and updates easier. By organizing code into objects, it becomes simpler to identify and fix issues or make changes without affecting the entire system.\n",
    "\n",
    "\n",
    "Overall, the primary goal of OOP is to simplify software development by providing a structured approach that promotes modularity, reusability, encapsulation, inheritance, and maintainability.\n"
   ]
  },
  {
   "cell_type": "code",
   "execution_count": null,
   "id": "27ba90c0",
   "metadata": {},
   "outputs": [],
   "source": []
  },
  {
   "cell_type": "markdown",
   "id": "9e369a18",
   "metadata": {},
   "source": [
    "2. What is an object in Python?\n",
    "\n",
    "Answer:-\n",
    "\n",
    "Objects are created from classes, which serve as blueprints or templates defining the structure and behavior of objects.\n",
    "\n",
    "Few keypoints about objects in python:\n",
    "\n",
    "1) Object Creation: Objects are created using the class keyword and the constructor method __init__() within a class. When an object is created, memory is allocated to store its attributes.\n",
    "\n",
    "2) Attributes: These attributes can be accessed and modified using dot notation (object_name.attribute_name).\n",
    "\n",
    "3) Methods:  Methods are accessed using dot notation as well (object_name.method_name())."
   ]
  },
  {
   "cell_type": "code",
   "execution_count": null,
   "id": "cbdd8e2d",
   "metadata": {},
   "outputs": [],
   "source": []
  },
  {
   "cell_type": "markdown",
   "id": "ac1d2eee",
   "metadata": {},
   "source": [
    "3. What is a class in Python?\n",
    "\n",
    "Answer:-\n",
    "\n",
    "In Python, a class is a blueprint or template for creating objects. It serves as a user-defined data type that defines the structure and behavior of objects. \n",
    "\n",
    "A class encapsulates related data (attributes) and functions (methods) into a single entity."
   ]
  },
  {
   "cell_type": "code",
   "execution_count": null,
   "id": "04a5440e",
   "metadata": {},
   "outputs": [],
   "source": []
  },
  {
   "cell_type": "markdown",
   "id": "3b3f50a5",
   "metadata": {},
   "source": [
    "\n",
    "4. What are attributes and methods in a class?\n",
    "\n",
    "Answer:-\n",
    "\n",
    "\n",
    "In a class, attributes and methods are the two main components that define the structure and behavior of objects.\n",
    "\n",
    "➡️Attributes: Attributes are variables that hold data associated with a class or its instances (objects). They represent characteristics of the objects. \n",
    "Attributes can be of any data type, such as integers, strings, lists, or even other objects.\n",
    "\n",
    "\n",
    "☑️Class Attributes: \n",
    "\n",
    "Class attributes are shared among all instances of a class. They are defined within the class body but outside of any methods. Class attributes are accessed using the class name (ClassName.attribute_name).\n",
    "\n",
    "☑️Instance Attributes: \n",
    "\n",
    "Instance attributes are unique to each object or instance of a class. They are defined within methods or the constructor (__init__() method) using the self keyword. \n",
    "Instance attributes are accessed using the dot notation (object_name.attribute_name).\n",
    "\n",
    "\n",
    "➡️Methods: Methods are functions defined within a class that define the behavior of the objects.  Methods can access and modify the attributes of the class or its instances.\n",
    "\n",
    "\n",
    "☑️Instance Methods: Instance methods are defined within a class and can access and modify the instance attributes using the self keyword. They are typically used to perform operations specific to each object.\n",
    "\n",
    "☑️Class Methods: Class methods are defined with the @classmethod decorator and operate on class attributes. They can be used to perform operations that are common to all instances of a class.\n",
    "\n",
    "☑️Static Methods: Static methods are defined with the @staticmethod decorator and do not have access to the instance or class attributes. They are independent of the class and are commonly used for utility functions.\n",
    "\n",
    "Attributes and methods work together to define the behavior and characteristics of objects created from a class. \n",
    "Attributes store the data associated with objects, while methods define the operations that can be performed on that data. \n",
    "They provide a way to encapsulate data and functions into a single entity, promoting code organization, reusability, and modularity in object-oriented programming.\n",
    "\n"
   ]
  },
  {
   "cell_type": "code",
   "execution_count": null,
   "id": "fdd11da2",
   "metadata": {},
   "outputs": [],
   "source": []
  },
  {
   "cell_type": "markdown",
   "id": "08edc2a5",
   "metadata": {},
   "source": [
    "5. What is the difference between class variables and instance variables in Python?\n",
    "\n",
    "\n",
    "Answer:-\n",
    "\n",
    "Class variables are shared among all instances of a class. They are defined within the class body but outside of any methods. \n",
    "Class variables are accessed using the class name (ClassName.var_name).\n",
    "\n",
    "Example:\n",
    "\n",
    "class MyClass:\n",
    "    class_var = 10\n",
    "\n",
    "    def __init__(self, instance_var):\n",
    "        self.instance_var = instance_var\n",
    "\n",
    "obj1 = MyClass(20)\n",
    "obj2 = MyClass(30)\n",
    "\n",
    "print(obj1.class_var)  # Output: 10\n",
    "print(obj2.class_var)  # Output: 10\n",
    "\n",
    "print(MyClass.class_var)  # Output: 10\n",
    "\n",
    "\n",
    "Instance variables are unique to each object or instance of a class. They are defined within methods or the constructor (__init__() method) using the self keyword. \n",
    "Instance variables are accessed using the dot notation (object_name.attribute_name).\n",
    "\n",
    "\n",
    "will see some simple examples:\n",
    "\n",
    "class MyClass:\n",
    "    def __init__(self, instance_var):\n",
    "        self.instance_var = instance_var\n",
    "\n",
    "obj1 = MyClass(20)\n",
    "obj2 = MyClass(30)\n",
    "\n",
    "print(obj1.instance_var)  # Output: 20\n",
    "print(obj2.instance_var)  # Output: 30"
   ]
  },
  {
   "cell_type": "code",
   "execution_count": null,
   "id": "e284c9f9",
   "metadata": {},
   "outputs": [],
   "source": []
  },
  {
   "cell_type": "markdown",
   "id": "9348a1c1",
   "metadata": {},
   "source": [
    "6. What is the purpose of the self parameter in Python class methods?\n",
    "\n",
    "Answer:-\n",
    "\n",
    "In Python class methods, the self parameter is a conventional name used to refer to the instance of the class itself. It represents the instance on which the method is called and allows access to the instance's attributes and methods within the method definition.\n",
    "\n",
    "The self parameter serves the following purposes:\n",
    "\n",
    "Accessing Instance Variables: By using self.variable_name, the instance variables can be accessed and modified within the class methods.\n",
    "\n",
    "Calling Other Methods: self is used to call other methods defined within the same class. This enables the method to invoke other behaviors of the instance.\n",
    "\n",
    "Creating and Modifying Instance Attributes: self is used to create or modify instance attributes within the method. It allows the method to store or update specific data associated with the instance.\n",
    "\n",
    "Differentiating Between Local and Instance Variables: The self parameter helps distinguish instance variables from local variables within the method. It clarifies that the intention is to work with the instance's attributes and not create new local variables.\n",
    "\n",
    "Example:\n",
    "\n",
    "class MyClass:\n",
    "    def __init__(self, value):\n",
    "        self.value = value\n",
    "\n",
    "    def print_value(self):\n",
    "        print(self.value)\n",
    "\n",
    "    def update_value(self, new_value):\n",
    "        self.value = new_value\n",
    "\n",
    "obj = MyClass(10)\n",
    "obj.print_value()  # Output: 10\n",
    "\n",
    "obj.update_value(20)\n",
    "obj.print_value()  # Output: 20"
   ]
  },
  {
   "cell_type": "code",
   "execution_count": null,
   "id": "6680d83f",
   "metadata": {},
   "outputs": [],
   "source": []
  },
  {
   "cell_type": "raw",
   "id": "fca513cf",
   "metadata": {},
   "source": [
    "7. For a library management system, you have to design the \"Book\" class with OOP\n",
    "principles in mind. The “Book” class will have following attributes:\n",
    "a. title: Represents the title of the book.\n",
    "b. author: Represents the author(s) of the book.\n",
    "c. isbn: Represents the ISBN (International Standard Book Number) of the book.\n",
    "d. publication_year: Represents the year of publication of the book.\n",
    "e. available_copies: Represents the number of copies available for checkout.\n",
    "\n",
    "The class will also include the following methods:\n",
    "a. check_out(self): Decrements the available copies by one if there are copies\n",
    "available for checkout.\n",
    "b. return_book(self): Increments the available copies by one when a book is\n",
    "returned.\n",
    "c. display_book_info(self): Displays the information about the book, including its\n",
    "attributes and the number of available copies."
   ]
  },
  {
   "cell_type": "code",
   "execution_count": 16,
   "id": "5f67d754",
   "metadata": {},
   "outputs": [
    {
     "name": "stdout",
     "output_type": "stream",
     "text": [
      "The book title is SHMBH and its author name is SH. Its ISBN number is 1978, whereas the publication year is 192 and finally the number of copies available are: 5\n"
     ]
    }
   ],
   "source": [
    "class Book:\n",
    "    def __init__(self, title, author, isbn, publication_year, available_copies):\n",
    "        self.title = title\n",
    "        self.author = author\n",
    "        self.isbn = isbn\n",
    "        self.publication_year = publication_year\n",
    "        self.available_copies = available_copies\n",
    "        \n",
    "    def check_out(self, no_copies):\n",
    "        self.available_copies -= no_copies\n",
    "        \n",
    "    def return_book(self, no_copies):\n",
    "        self.available_copies += no_copies\n",
    "            \n",
    "    def display_info(self):\n",
    "        print(f\"The book title is {self.title} and its author name is {self.author}. Its ISBN number is {self.isbn}, whereas the publication year is {self.publication_year} and finally the number of copies available are: {self.available_copies}\")\n",
    "\n",
    "b1 = Book(\"SHMBH\", \"SH\", 1978, 192, 10)\n",
    "b1.check_out(5)\n",
    "b1.display_info()\n"
   ]
  },
  {
   "cell_type": "code",
   "execution_count": 17,
   "id": "9282cd58",
   "metadata": {},
   "outputs": [],
   "source": [
    "b1 = Book(\"SHMBH\",\"SH\",1978,192,10)\n",
    "b1.check_out(5)"
   ]
  },
  {
   "cell_type": "code",
   "execution_count": 18,
   "id": "7d318679",
   "metadata": {},
   "outputs": [
    {
     "data": {
      "text/plain": [
       "5"
      ]
     },
     "execution_count": 18,
     "metadata": {},
     "output_type": "execute_result"
    }
   ],
   "source": [
    "b1.available_copies"
   ]
  },
  {
   "cell_type": "code",
   "execution_count": 19,
   "id": "0450b39c",
   "metadata": {},
   "outputs": [],
   "source": [
    "b1.return_book(5)"
   ]
  },
  {
   "cell_type": "code",
   "execution_count": 20,
   "id": "3e422163",
   "metadata": {},
   "outputs": [
    {
     "data": {
      "text/plain": [
       "10"
      ]
     },
     "execution_count": 20,
     "metadata": {},
     "output_type": "execute_result"
    }
   ],
   "source": [
    "b1.available_copies"
   ]
  },
  {
   "cell_type": "code",
   "execution_count": null,
   "id": "040b7831",
   "metadata": {},
   "outputs": [],
   "source": []
  },
  {
   "cell_type": "raw",
   "id": "c78e7f60",
   "metadata": {},
   "source": [
    "8. For a ticket booking system, you have to design the \"Ticket\" class with OOP\n",
    "principles in mind. The “Ticket” class should have the following attributes:\n",
    "a. ticket_id: Represents the unique identifier for the ticket.\n",
    "b. event_name: Represents the name of the event.\n",
    "c. event_date: Represents the date of the event.\n",
    "d. venue: Represents the venue of the event.\n",
    "e. seat_number: Represents the seat number associated with the ticket.\n",
    "f. price: Represents the price of the ticket.\n",
    "g. is_reserved: Represents the reservation status of the ticket.\n",
    "The class also includes the following methods:\n",
    "a. reserve_ticket(self): Marks the ticket as reserved if it is not already reserved.\n",
    "b. cancel_reservation(self): Cancels the reservation of the ticket if it is already\n",
    "reserved.\n",
    "c. display_ticket_info(self): Displays the information about the ticket, including its\n",
    "attributes and reservation status."
   ]
  },
  {
   "cell_type": "code",
   "execution_count": null,
   "id": "ae9ba36a",
   "metadata": {},
   "outputs": [],
   "source": []
  },
  {
   "cell_type": "code",
   "execution_count": 40,
   "id": "ff4edcbe",
   "metadata": {},
   "outputs": [
    {
     "name": "stdout",
     "output_type": "stream",
     "text": [
      "Ticket ID: T123\n",
      "Event Name: Concert\n",
      "Event Date: 2023-07-20\n",
      "Venue: Arena\n",
      "Seat Number: A1\n",
      "Price: 50.0\n",
      "Reservation Status: Not Reserved\n",
      "Ticket T123 has been reserved.\n",
      "Reservation for ticket T123 has been reserved.\n"
     ]
    }
   ],
   "source": [
    "class Ticket:\n",
    "    def __init__(self, ticket_id, event_name, event_date, venue, seat_number, price):\n",
    "        self.ticket_id = ticket_id\n",
    "        self.event_name = event_name\n",
    "        self.event_date = event_date\n",
    "        self.venue = venue\n",
    "        self.seat_number = seat_number\n",
    "        self.price = price\n",
    "        self.is_reserved = False\n",
    "\n",
    "    def reserve_ticket(self):\n",
    "        if not self.is_reserved:\n",
    "            self.is_reserved = True\n",
    "            print(f\"Ticket {self.ticket_id} has been reserved.\")\n",
    "        else:\n",
    "            print(f\"Ticket {self.ticket_id} is already reserved.\")\n",
    "\n",
    "    def cancel_reservation(self):\n",
    "        if self.is_reserved:\n",
    "            self.is_reserved = True\n",
    "            print(f\"Reservation for ticket {self.ticket_id} has been reserved.\")\n",
    "        else:\n",
    "            print(f\"Ticket {self.ticket_id} is cancelled.\")\n",
    "\n",
    "    def display_ticket_info(self):\n",
    "        print(f\"Ticket ID: {self.ticket_id}\")\n",
    "        print(f\"Event Name: {self.event_name}\")\n",
    "        print(f\"Event Date: {self.event_date}\")\n",
    "        print(f\"Venue: {self.venue}\")\n",
    "        print(f\"Seat Number: {self.seat_number}\")\n",
    "        print(f\"Price: {self.price}\")\n",
    "        print(f\"Reservation Status: {'Reserved' if self.is_reserved else 'Not Reserved'}\")\n",
    "\n",
    "        \n",
    "ticket = Ticket(\"T123\", \"Concert\", \"2023-07-20\", \"Arena\", \"A1\", 50.0)\n",
    "ticket.display_ticket_info()\n",
    "ticket.reserve_ticket()\n",
    "ticket.cancel_reservation()\n"
   ]
  },
  {
   "cell_type": "code",
   "execution_count": null,
   "id": "2accb3d1",
   "metadata": {},
   "outputs": [],
   "source": []
  },
  {
   "cell_type": "code",
   "execution_count": null,
   "id": "3a93b5fe",
   "metadata": {},
   "outputs": [],
   "source": []
  },
  {
   "cell_type": "raw",
   "id": "fae0b46a",
   "metadata": {},
   "source": [
    "9. You are creating a shopping cart for an e-commerce website. Using OOP to model\n",
    "the \"ShoppingCart\" functionality the class should contain following attributes and\n",
    "methods:\n",
    "a. items: Represents the list of items in the shopping cart.\n",
    "The class also includes the following methods:\n",
    "a. add_item(self, item): Adds an item to the shopping cart by appending it to the\n",
    "list of items.\n",
    "b. remove_item(self, item): Removes an item from the shopping cart if it exists in\n",
    "the list.\n",
    "c. view_cart(self): Displays the items currently present in the shopping cart.\n",
    "d. clear_cart(self): Clears all items from the shopping cart by reassigning an\n",
    "empty list to the items attribute."
   ]
  },
  {
   "cell_type": "code",
   "execution_count": null,
   "id": "df8a98c1",
   "metadata": {},
   "outputs": [],
   "source": []
  },
  {
   "cell_type": "code",
   "execution_count": 46,
   "id": "047182d5",
   "metadata": {},
   "outputs": [
    {
     "name": "stdout",
     "output_type": "stream",
     "text": [
      "the items in your cart is ['apple', 'mango']\n"
     ]
    }
   ],
   "source": [
    "class ShoppingCart:\n",
    "    def __init__(self):\n",
    "        self.items = []\n",
    "        \n",
    "    def add_item(self, item):\n",
    "        self.items.append(item)\n",
    "        \n",
    "    def remove_item(self, item):\n",
    "        self.items.remove(item)\n",
    "        \n",
    "        \n",
    "    def view_cart(self):\n",
    "        print(f\"the items in your cart is {self.items}\")\n",
    "        \n",
    "    def clear_cart(self):\n",
    "        self.items.clear()\n",
    "        \n",
    "\n",
    "        \n",
    "s1 = ShoppingCart()\n",
    "\n",
    "s1.add_item(\"apple\")\n",
    "s1.add_item(\"mango\")\n",
    "\n",
    "s1.view_cart()\n",
    "        \n"
   ]
  },
  {
   "cell_type": "code",
   "execution_count": 47,
   "id": "5b8e8c3a",
   "metadata": {},
   "outputs": [],
   "source": [
    "s1.remove_item(\"mango\")"
   ]
  },
  {
   "cell_type": "code",
   "execution_count": 48,
   "id": "d611ff06",
   "metadata": {},
   "outputs": [
    {
     "name": "stdout",
     "output_type": "stream",
     "text": [
      "the items in your cart is ['apple']\n"
     ]
    }
   ],
   "source": [
    "s1.view_cart()"
   ]
  },
  {
   "cell_type": "code",
   "execution_count": null,
   "id": "dde4615a",
   "metadata": {},
   "outputs": [],
   "source": []
  },
  {
   "cell_type": "code",
   "execution_count": 49,
   "id": "553ffb4d",
   "metadata": {},
   "outputs": [
    {
     "name": "stdout",
     "output_type": "stream",
     "text": [
      "Item 'Shirt' has been added to the shopping cart.\n",
      "Item 'Shoes' has been added to the shopping cart.\n",
      "Items in the shopping cart:\n",
      "Shirt\n",
      "Shoes\n",
      "Item 'Shirt' has been removed from the shopping cart.\n",
      "The shopping cart has been cleared.\n"
     ]
    }
   ],
   "source": [
    "class ShoppingCart:\n",
    "    def __init__(self):\n",
    "        self.items = []\n",
    "\n",
    "    def add_item(self, item):\n",
    "        self.items.append(item)\n",
    "        print(f\"Item '{item}' has been added to the shopping cart.\")\n",
    "\n",
    "    def remove_item(self, item):\n",
    "        if item in self.items:\n",
    "            self.items.remove(item)\n",
    "            print(f\"Item '{item}' has been removed from the shopping cart.\")\n",
    "        else:\n",
    "            print(f\"Item '{item}' is not present in the shopping cart.\")\n",
    "\n",
    "    def view_cart(self):\n",
    "        if len(self.items) > 0:\n",
    "            print(\"Items in the shopping cart:\")\n",
    "            for item in self.items:\n",
    "                print(item)\n",
    "        else:\n",
    "            print(\"The shopping cart is empty.\")\n",
    "\n",
    "    def clear_cart(self):\n",
    "        self.items = []\n",
    "        print(\"The shopping cart has been cleared.\")\n",
    "\n",
    "        \n",
    "        \n",
    "cart = ShoppingCart()\n",
    "cart.add_item(\"Shirt\")\n",
    "cart.add_item(\"Shoes\")\n",
    "cart.view_cart()\n",
    "cart.remove_item(\"Shirt\")\n",
    "cart.clear_cart()\n"
   ]
  },
  {
   "cell_type": "code",
   "execution_count": null,
   "id": "68d43d94",
   "metadata": {},
   "outputs": [],
   "source": []
  },
  {
   "cell_type": "code",
   "execution_count": null,
   "id": "2e069eec",
   "metadata": {},
   "outputs": [],
   "source": []
  },
  {
   "cell_type": "raw",
   "id": "2de5836f",
   "metadata": {},
   "source": [
    "10. Imagine a school management system. You have to design the \"Student\" class using\n",
    "OOP concepts.The “Student” class has the following attributes:\n",
    "a. name: Represents the name of the student.\n",
    "b. age: Represents the age of the student.\n",
    "c. grade: Represents the grade or class of the student.\n",
    "d. student_id: Represents the unique identifier for the student.\n",
    "e. attendance: Represents the attendance record of the student.\n",
    "The class should also include the following methods:\n",
    "a. update_attendance(self, date, status): Updates the attendance record of the\n",
    "student for a given date with the provided status (e.g., present or absent).\n",
    "b. get_attendance(self): Returns the attendance record of the student.\n",
    "c. get_average_attendance(self): Calculates and returns the average\n",
    "attendance percentage of the student based on their attendance record."
   ]
  },
  {
   "cell_type": "code",
   "execution_count": null,
   "id": "65319175",
   "metadata": {},
   "outputs": [],
   "source": []
  },
  {
   "cell_type": "code",
   "execution_count": null,
   "id": "95f1c043",
   "metadata": {},
   "outputs": [],
   "source": [
    "class Student:\n",
    "    def __init__(self,name,age,grade,student_id,attendance):\n",
    "        self.name = name\n",
    "        self.age = age\n",
    "        self.grade = grade\n",
    "        self.student_id = student_id\n",
    "        self.attendance = attendance\n",
    "        \n",
    "    def update_attendance(self, date, status):\n",
    "        \n",
    "        \n",
    "    "
   ]
  },
  {
   "cell_type": "code",
   "execution_count": null,
   "id": "757c2fa6",
   "metadata": {},
   "outputs": [],
   "source": []
  },
  {
   "cell_type": "code",
   "execution_count": 53,
   "id": "f9399ac2",
   "metadata": {},
   "outputs": [
    {
     "name": "stdout",
     "output_type": "stream",
     "text": [
      "Attendance record: {'2023-07-01': 'present', '2023-07-02': 'absent', '2023-07-03': 'present'}\n",
      "Average attendance: 66.66666666666666\n"
     ]
    }
   ],
   "source": [
    "class Student:\n",
    "    def __init__(self, name, age, grade, student_id):\n",
    "        self.name = name\n",
    "        self.age = age\n",
    "        self.grade = grade\n",
    "        self.student_id = student_id\n",
    "        self.attendance = {}\n",
    "\n",
    "    def update_attendance(self, date, status):\n",
    "        self.attendance[date] = status\n",
    "\n",
    "    def get_attendance(self):\n",
    "        return self.attendance\n",
    "\n",
    "    def get_average_attendance(self):\n",
    "        total_days = len(self.attendance)\n",
    "        present_days = sum(status == 'present' for status in self.attendance.values())\n",
    "        attendance_percentage = (present_days / total_days) * 100 if total_days > 0 else 0\n",
    "        return attendance_percentage\n",
    "\n",
    "\n",
    "        \n",
    "        \n",
    "student = Student(\"John Doe\", 16, \"10th Grade\", \"S1234\")\n",
    "student.update_attendance(\"2023-07-01\", \"present\")\n",
    "student.update_attendance(\"2023-07-02\", \"absent\")\n",
    "student.update_attendance(\"2023-07-03\", \"present\")\n",
    "attendance = student.get_attendance()\n",
    "average_attendance = student.get_average_attendance()\n",
    "print(\"Attendance record:\", attendance)\n",
    "print(\"Average attendance:\", average_attendance)\n"
   ]
  },
  {
   "cell_type": "code",
   "execution_count": null,
   "id": "97c01475",
   "metadata": {},
   "outputs": [],
   "source": []
  },
  {
   "cell_type": "code",
   "execution_count": null,
   "id": "e0026d0d",
   "metadata": {},
   "outputs": [],
   "source": []
  }
 ],
 "metadata": {
  "kernelspec": {
   "display_name": "Python 3 (ipykernel)",
   "language": "python",
   "name": "python3"
  },
  "language_info": {
   "codemirror_mode": {
    "name": "ipython",
    "version": 3
   },
   "file_extension": ".py",
   "mimetype": "text/x-python",
   "name": "python",
   "nbconvert_exporter": "python",
   "pygments_lexer": "ipython3",
   "version": "3.9.16"
  }
 },
 "nbformat": 4,
 "nbformat_minor": 5
}
